{
 "cells": [
  {
   "attachments": {},
   "cell_type": "markdown",
   "metadata": {},
   "source": [
    "# Can GDP Predict Quality of Life?\n",
    "\n",
    "An incredibly complicated and eye-opening study by Rahul Iyengar, Matthew Chen, and Sean Boerhout\n",
    "\n",
    "### Essential Question: How does a country's GDP relate to the quality of life of its individuals?\n",
    "\n",
    "By analyzing the relationship between a country's GDP and its population density, infant mortality, literacy rate, and even the relative number of phones people own, we can make predictions about how that country's GDP has affected (or serves as a measure of) the quality of life of its inhabitants. \n",
    "\n",
    "### Interesting Topics of Analysis\n",
    "\n",
    "GDP per capita: `GDP ($ per capita)`\n",
    "\n",
    "GDP per capita vs population density (`Pop. Density (per sq. mi.)`)\n",
    "GDP per capita vs infant mortality (`Infant mortality (per 1000 births)`)\n",
    "GDP per capita vs literacy rate (`Literacy (%)`)\n",
    "GDP per captia vs relative number of phones (`Phones (per 1000)`)\n"
   ]
  },
  {
   "cell_type": "code",
   "execution_count": 1,
   "metadata": {},
   "outputs": [],
   "source": [
    "# Import the necessary packages\n",
    "\n",
    "import pandas as pd                 # For creating and manipulating the DataFrame\n",
    "import numpy as np                  # For performing mathematical operations on the DataFrame\n",
    "import scipy.stats as st            # Statistics package for inference\n",
    "import matplotlib.pyplot as plt     # Plotting package"
   ]
  },
  {
   "cell_type": "code",
   "execution_count": 2,
   "metadata": {},
   "outputs": [],
   "source": [
    "# Set the plotting style to that of ggplot\n",
    "plt.style.use('ggplot')\n",
    "\n",
    "# Import the data\n",
    "df = pd.read_csv('~/Documents/School/Stats/dataproject/test1/dataframes/countries-of-the-world.csv')"
   ]
  },
  {
   "attachments": {},
   "cell_type": "markdown",
   "metadata": {},
   "source": [
    "### Clean The Data\n",
    "\n",
    "We clean our data by dropping useless columns and removing rows with null data. \n",
    "\n",
    "We also assign the row indexes to be the names of the countries the data represents and print out the first 5 rows as a preview of the new data. "
   ]
  },
  {
   "cell_type": "code",
   "execution_count": 3,
   "metadata": {},
   "outputs": [
    {
     "name": "stdout",
     "output_type": "stream",
     "text": [
      "                                              Region  Population   \n",
      "Country                                                            \n",
      "Afghanistan            ASIA (EX. NEAR EAST)             31056997  \\\n",
      "Albania          EASTERN EUROPE                          3581655   \n",
      "Algeria          NORTHERN AFRICA                        32930091   \n",
      "American Samoa   OCEANIA                                   57794   \n",
      "Andorra          WESTERN EUROPE                            71201   \n",
      "\n",
      "                 Area (sq. mi.) Pop. Density (per sq. mi.)   \n",
      "Country                                                      \n",
      "Afghanistan              647500                       48,0  \\\n",
      "Albania                   28748                      124,6   \n",
      "Algeria                 2381740                       13,8   \n",
      "American Samoa              199                      290,4   \n",
      "Andorra                     468                      152,1   \n",
      "\n",
      "                Coastline (coast/area ratio) Net migration   \n",
      "Country                                                      \n",
      "Afghanistan                             0,00         23,06  \\\n",
      "Albania                                 1,26         -4,93   \n",
      "Algeria                                 0,04         -0,39   \n",
      "American Samoa                         58,29        -20,71   \n",
      "Andorra                                 0,00           6,6   \n",
      "\n",
      "                Infant mortality (per 1000 births)  GDP ($ per capita)   \n",
      "Country                                                                  \n",
      "Afghanistan                                 163,07               700.0  \\\n",
      "Albania                                      21,52              4500.0   \n",
      "Algeria                                         31              6000.0   \n",
      "American Samoa                                9,27              8000.0   \n",
      "Andorra                                       4,05             19000.0   \n",
      "\n",
      "                Literacy (%) Phones (per 1000) Crops (%) Birthrate Deathrate  \n",
      "Country                                                                       \n",
      "Afghanistan             36,0               3,2      0,22      46,6     20,34  \n",
      "Albania                 86,5              71,2      4,42     15,11      5,22  \n",
      "Algeria                 70,0              78,1      0,25     17,14      4,61  \n",
      "American Samoa          97,0             259,5        15     22,46      3,27  \n",
      "Andorra                100,0             497,2         0      8,71      6,25  \n"
     ]
    }
   ],
   "source": [
    "# Columsn to be dropped\n",
    "dropped_cols = ['Arable (%)', \n",
    "                'Other (%)', \n",
    "                'Climate', \n",
    "                'Agriculture', \n",
    "                'Industry', \n",
    "                'Service']\n",
    "\n",
    "df.drop(dropped_cols, inplace=True, axis=1)\n",
    "df.dropna(inplace=True)\n",
    "df.set_index('Country', inplace=True)\n",
    "\n",
    "print(df.head())"
   ]
  },
  {
   "attachments": {},
   "cell_type": "markdown",
   "metadata": {},
   "source": [
    "Now let's start looking at the data, starting with population density, and since we haven't looked at the GDP data yet, here's that too:"
   ]
  },
  {
   "cell_type": "code",
   "execution_count": 4,
   "metadata": {},
   "outputs": [
    {
     "name": "stdout",
     "output_type": "stream",
     "text": [
      "GDP per captita: \n",
      " count      203.000000\n",
      "mean      9727.586207\n",
      "std      10213.014779\n",
      "min        500.000000\n",
      "25%       1900.000000\n",
      "50%       5600.000000\n",
      "75%      14700.000000\n",
      "max      55100.000000\n",
      "Name: GDP ($ per capita), dtype: float64\n",
      "Population denstiy per capita: \n",
      " count      203\n",
      "unique     195\n",
      "top       66,6\n",
      "freq         2\n",
      "Name: Pop. Density (per sq. mi.), dtype: object\n"
     ]
    }
   ],
   "source": [
    "# GDP data\n",
    "print('GDP per captita: \\n', df['GDP ($ per capita)'].describe())\n",
    "\n",
    "# Population density\n",
    "print('Population density per capita: \\n', df['Pop. Density (per sq. mi.)'].describe())"
   ]
  },
  {
   "attachments": {},
   "cell_type": "markdown",
   "metadata": {},
   "source": [
    "We need a function to plot data with a regression line: "
   ]
  },
  {
   "cell_type": "code",
   "execution_count": 5,
   "metadata": {},
   "outputs": [],
   "source": [
    "def plot_data(series_x, series_y, regression_line=True):\n",
    "  new_df = pd.DataFrame({series_x : df[series_x],\n",
    "                         series_y : df[series_y]})\n",
    "  \n",
    "  # verify that there are no commas in the data - this is probably better to do in the cleaning stage, but whatever\n",
    "  if isinstance(new_df[series_x][0], str):\n",
    "    new_df[series_x] = new_df[series_x].replace(',', '.', regex=True)\n",
    "    new_df[series_x] = pd.to_numeric(new_df[series_x])\n",
    "  if isinstance(new_df[series_y][0], str):\n",
    "    new_df[series_y] = new_df[series_y].replace(',', '.', regex=True)\n",
    "    new_df[series_y] = pd.to_numeric(new_df[series_y])\n",
    "\n",
    "  # use numpy to create a regression line\n",
    "  d = np.polyfit(new_df[series_x], new_df[series_y], 1)\n",
    "  f = np.poly1d(d)\n",
    "\n",
    "  # print out the regression line\n",
    "  print(f'Regression line for: {series_y} vs {series_x}: {str(f)}')\n",
    "\n",
    "  new_df.insert(2, 'Treg', f(new_df[series_x]))\n",
    "  ax = new_df.plot.scatter(x=series_x, y=series_y)\n",
    "  if regression_line:\n",
    "    new_df.plot(x=series_x, y='Treg', color='Red', ax=ax)\n",
    "    plt.legend([series_x, f'{f}'])\n",
    "\n",
    "  # plot\n",
    "  plt.show()"
   ]
  },
  {
   "attachments": {},
   "cell_type": "markdown",
   "metadata": {},
   "source": [
    "Let's plot!"
   ]
  },
  {
   "cell_type": "code",
   "execution_count": 6,
   "metadata": {},
   "outputs": [
    {
     "name": "stdout",
     "output_type": "stream",
     "text": [
      "Regression line for: Pop. Density (per sq. mi.) vs GDP ($ per capita):  \n",
      "0.03482 x + 22.2\n"
     ]
    },
    {
     "data": {
      "image/png": "[encoded data removed]",
      "text/plain": [
       "<Figure size 640x480 with 1 Axes>"
      ]
     },
     "metadata": {},
     "output_type": "display_data"
    }
   ],
   "source": [
    "plot_data('GDP ($ per capita)', 'Pop. Density (per sq. mi.)', regression_line=True)"
   ]
  }
 ],
 "metadata": {
  "kernelspec": {
   "display_name": ".venv",
   "language": "python",
   "name": "python3"
  },
  "language_info": {
   "codemirror_mode": {
    "name": "ipython",
    "version": 3
   },
   "file_extension": ".py",
   "mimetype": "text/x-python",
   "name": "python",
   "nbconvert_exporter": "python",
   "pygments_lexer": "ipython3",
   "version": "3.10.9"
  },
  "orig_nbformat": 4
 },
 "nbformat": 4,
 "nbformat_minor": 2
}
