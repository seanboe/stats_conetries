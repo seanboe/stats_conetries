{
 "cells": [
  {
   "attachments": {},
   "cell_type": "markdown",
   "metadata": {},
   "source": [
    "# Can GDP Predict Quality of Life?\n",
    "\n",
    "An incredibly complicated and eye-opening study by Rahul Iyengar, Matthew Chen, and Sean Boerhout\n",
    "\n",
    "### Essential Question: How does a country's GDP relate to the quality of life of its individuals?\n",
    "\n",
    "By analyzing the relationship between a country's GDP and its population density, infant mortality, literacy rate, and even the relative number of phones people own, we can make predictions about how that country's GDP has affected (or serves as a measure of) the quality of life of its inhabitants. \n",
    "\n",
    "### Interesting Topics of Analysis\n",
    "\n",
    "GDP per capita vs population density\n",
    "GDP per capita vs infant mortality\n",
    "GDP per capita vs literacy rate\n",
    "GDP per captia vs relative number of phones"
   ]
  },
  {
   "cell_type": "code",
   "execution_count": null,
   "metadata": {},
   "outputs": [],
   "source": [
    "# Import the necessary packages\n",
    "\n",
    "import pandas as pd                 # For creating and manipulating the DataFrame\n",
    "import numpy as np                  # For performing mathematical operations on the DataFrame\n",
    "import scipy.stats as st            # Statistics package for inference\n",
    "import matplotlib.pyplot as plt     # Plotting package"
   ]
  },
  {
   "cell_type": "code",
   "execution_count": null,
   "metadata": {},
   "outputs": [],
   "source": [
    "# Set the plotting style to that of ggplot\n",
    "plt.style.use('ggplot')\n",
    "\n",
    "# Import the data\n",
    "df = pd.read_csv('~/Documents/School/Stats/dataproject/test1/dataframes/countries-of-the-world.csv')"
   ]
  }
 ],
 "metadata": {
  "kernelspec": {
   "display_name": ".venv",
   "language": "python",
   "name": "python3"
  },
  "language_info": {
   "codemirror_mode": {
    "name": "ipython",
    "version": 3
   },
   "file_extension": ".py",
   "mimetype": "text/x-python",
   "name": "python",
   "nbconvert_exporter": "python",
   "pygments_lexer": "ipython3",
   "version": "3.10.9"
  },
  "orig_nbformat": 4
 },
 "nbformat": 4,
 "nbformat_minor": 2
}
